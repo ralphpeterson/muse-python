{
 "cells": [
  {
   "cell_type": "code",
   "execution_count": 1,
   "metadata": {},
   "outputs": [
    {
     "name": "stdout",
     "output_type": "stream",
     "text": [
      "Populating the interactive namespace from numpy and matplotlib\n"
     ]
    }
   ],
   "source": [
    "import matplotlib.pyplot as plt\n",
    "import muse.util as muse\n",
    "import numpy as np\n",
    "import pyroomacoustics as pra\n",
    "from pyroomacoustics.directivities import CardioidFamily, DirectionVector, DirectivityPattern\n",
    "from scipy.io import wavfile\n",
    "import seaborn as sns\n",
    "import librosa\n",
    "from scipy.spatial import distance\n",
    "\n",
    "%pylab inline\n",
    "\n",
    "def generate_room(x_dim, y_dim, z_dim, sampling_rate=125000, plot=False):\n",
    "    # generate the showbox using pyroom acoustics\n",
    "    # Materials of the room's walls\n",
    "    # See different materials at https://pyroomacoustics.readthedocs.io/en/pypi-release/pyroomacoustics.materials.database.html\n",
    "    materials = pra.make_materials(\n",
    "        ceiling = \"fibre_absorber_2\",\n",
    "        floor   = \"fibre_absorber_2\",\n",
    "        east    = \"hard_surface\",\n",
    "        west    = \"hard_surface\",\n",
    "        north   = \"hard_surface\",\n",
    "        south   = \"hard_surface\"\n",
    "    )\n",
    "    \n",
    "    shoebox_object = pra.ShoeBox(\n",
    "        [x_dim, y_dim, z_dim],\n",
    "        fs=sampling_rate,\n",
    "        materials=materials,\n",
    "        max_order=9  # Maximum number of times a sound wave can reflect (?)\n",
    "    ) \n",
    "    return shoebox_object\n",
    "\n",
    "def place_mics(shoebox, mic_pos):\n",
    "    # Assuming mic_pos has shape (3, n_mics), which, while strange, is what MUSE expects\n",
    "    # I think this is just a side-effect of MATLAB matrix convention\n",
    "    mic_pos = mic_pos.T  # (3, n_mics) -> (n_mics, 3)\n",
    "    shoebox_dims = shoebox.shoebox_dim\n",
    "    if any([coord >= box_size for coord, box_size in zip(mic_pos.max(axis=0), shoebox_dims)]) \\\n",
    "        or any([coord <= 0 for coord in mic_pos.min(axis=0)]):\n",
    "        raise ValueError(\"The microphones must be within the box. They cannot be located along an egde or face.\")\n",
    "    \n",
    "    # Compute directivity of microphones\n",
    "    # Assumes the microphones are all pointed toward the center of the room's floor\n",
    "    # Can be simplified by just pointing them downward\n",
    "    room_center = np.array(shoebox_dims) / 2\n",
    "    room_center[2] = 0\n",
    "    \n",
    "    mic_directions = room_center[np.newaxis, ...] - mic_pos  # List of vectors pointing from each mic to room_center\n",
    "    mic_directions /= np.sqrt((mic_directions**2).sum(axis=1, keepdims=True))  # Normalize the vectors\n",
    "    \n",
    "    # Convert the direction vectors into polar coordinates for the directivities used by PRA\n",
    "    directivities = list()\n",
    "    for direction in mic_directions:\n",
    "        # Angle within the x-y plane. 0 radians is toward the positive x direction\n",
    "        # In spherical coordinates, this is \\theta\n",
    "        azimuth = np.arctan2(direction[1], direction[0])\n",
    "        # Same thing here, but between the z axis and the x-y plane\n",
    "        xy_vec_size = np.sqrt((direction[:2] ** 2).sum())\n",
    "        # Using arctan instead of arctan2 because I need the result to be within Q1 and Q4\n",
    "        # This would be called \\phi in spherical coordinates\n",
    "        colatitude = np.pi/2 - np.arctan(direction[2] / xy_vec_size)\n",
    "        pra_direction = DirectionVector(\n",
    "            azimuth=azimuth,\n",
    "            colatitude=colatitude,\n",
    "            degrees=False\n",
    "        )\n",
    "        # For visualizations, see https://en.wikipedia.org/wiki/Microphone#Polar_patterns\n",
    "        # For supported options, see https://pyroomacoustics.readthedocs.io/en/pypi-release/pyroomacoustics.directivities.html?highlight=DirectivityPattern#pyroomacoustics.directivities.DirectivityPattern\n",
    "        directivities.append(CardioidFamily(\n",
    "            orientation=pra_direction,\n",
    "            pattern_enum=DirectivityPattern.HYPERCARDIOID\n",
    "        ))\n",
    "    \n",
    "    # Transpose mic_pos back to (3, n_mics)\n",
    "    shoebox.add_microphone_array(mic_array=mic_pos.T, directivity=directivities)\n",
    "    \n",
    "def add_source(speaker_pos, stimulus, sr_stimulus, room):\n",
    "    if not isinstance(speaker_pos, list):\n",
    "        speaker_pos = list(speaker_pos)\n",
    "    \n",
    "    if room.fs != sr_stimulus:\n",
    "        print('resampling audio')\n",
    "        stimulus_resampled = librosa.resample(stimulus.astype('float'), orig_sr=sr_stimulus, \n",
    "                                                                      target_sr=room.fs)\n",
    "        room.add_source(speaker_pos, signal=stimulus_resampled, delay=0)\n",
    "        return room.fs, stimulus_resampled\n",
    "        \n",
    "    else:\n",
    "        room.add_source(speaker_pos, signal=stimulus, delay=0)\n",
    "        return sr_stimulus, stimulus"
   ]
  },
  {
   "cell_type": "code",
   "execution_count": 2,
   "metadata": {},
   "outputs": [],
   "source": [
    "sns.set_style('white')\n",
    "sns.set_style('ticks')\n",
    "sns.set_context('talk')"
   ]
  },
  {
   "cell_type": "code",
   "execution_count": null,
   "metadata": {},
   "outputs": [],
   "source": []
  },
  {
   "cell_type": "markdown",
   "metadata": {},
   "source": [
    "# 1. Setup virtual environment"
   ]
  },
  {
   "cell_type": "markdown",
   "metadata": {},
   "source": [
    "#### parameters"
   ]
  },
  {
   "cell_type": "code",
   "execution_count": 3,
   "metadata": {},
   "outputs": [],
   "source": [
    "sr = 125000 #audio sampling rate\n",
    "\n",
    "#room dimensions\n",
    "x_dim = 1.83\n",
    "y_dim = 2.44\n",
    "z_dim = 0.76\n",
    "\n",
    "#microphone positions\n",
    "\n",
    "#to place in top corners, otherwise, put in x,y,z coords \n",
    "offset = .1\n",
    "mic_pos = np.array([\n",
    "    [x_dim-offset, y_dim-offset, z_dim-offset],\n",
    "    [offset, offset, z_dim-offset],\n",
    "    [offset, y_dim-offset, z_dim-offset],\n",
    "    [x_dim-offset, offset, z_dim-offset]\n",
    "]).T\n",
    "\n",
    "#pack stimulus to play in room\n",
    "import os\n",
    "sr_stimulus, stimulus = wavfile.read(os.path.abspath('../stimuli/tones/sine_2khz.wav'))\n",
    "\n",
    "#position of speaker in room\n",
    "x_pos, y_pos, z_pos = 0.8, 1.14, 0.01"
   ]
  },
  {
   "cell_type": "markdown",
   "metadata": {},
   "source": [
    "#### generate room"
   ]
  },
  {
   "cell_type": "code",
   "execution_count": 4,
   "metadata": {},
   "outputs": [],
   "source": [
    "room = generate_room(x_dim, y_dim, z_dim, plot=False)"
   ]
  },
  {
   "cell_type": "markdown",
   "metadata": {},
   "source": [
    "#### visualize room"
   ]
  },
  {
   "cell_type": "code",
   "execution_count": 15,
   "metadata": {},
   "outputs": [
    {
     "data": {
      "application/vnd.jupyter.widget-view+json": {
       "model_id": "1b955bbcbdda4a4ca6745899ff537303",
       "version_major": 2,
       "version_minor": 0
      },
      "text/plain": [
       "Canvas(toolbar=Toolbar(toolitems=[('Home', 'Reset original view', 'home', 'home'), ('Back', 'Back to previous …"
      ]
     },
     "metadata": {},
     "output_type": "display_data"
    }
   ],
   "source": [
    "%matplotlib widget\n",
    "\n",
    "axes_offset = 0.5\n",
    "\n",
    "sns.set_style('white')\n",
    "sns.set_style('ticks')\n",
    "sns.set_context('paper')\n",
    "\n",
    "fig, ax = room.plot()\n",
    "ax.set_xlim([-axes_offset, x_dim+axes_offset])\n",
    "ax.set_ylim([-axes_offset, y_dim+axes_offset])\n",
    "ax.set_zlim([-axes_offset, z_dim+axes_offset]);\n",
    "\n",
    "ax.set_xlabel('Width (m)', labelpad=10)\n",
    "ax.set_ylabel('Length (m)', labelpad=10)\n",
    "ax.set_zlabel('Height (m)', labelpad=10);"
   ]
  },
  {
   "cell_type": "markdown",
   "metadata": {},
   "source": [
    "#### add mics to room"
   ]
  },
  {
   "cell_type": "code",
   "execution_count": 6,
   "metadata": {},
   "outputs": [],
   "source": [
    "place_mics(room, mic_pos)"
   ]
  },
  {
   "cell_type": "markdown",
   "metadata": {},
   "source": [
    "#### vizualize mics in room"
   ]
  },
  {
   "cell_type": "code",
   "execution_count": 7,
   "metadata": {},
   "outputs": [
    {
     "data": {
      "application/vnd.jupyter.widget-view+json": {
       "model_id": "1125c91da1854423ba81732862626467",
       "version_major": 2,
       "version_minor": 0
      },
      "text/plain": [
       "Canvas(toolbar=Toolbar(toolitems=[('Home', 'Reset original view', 'home', 'home'), ('Back', 'Back to previous …"
      ]
     },
     "metadata": {},
     "output_type": "display_data"
    }
   ],
   "source": [
    "%matplotlib widget\n",
    "\n",
    "axes_offset = 0.5\n",
    "\n",
    "sns.set_style('white')\n",
    "sns.set_style('ticks')\n",
    "sns.set_context('paper')\n",
    "\n",
    "fig, ax = room.plot(plot_directivity=False, mic_marker_size=50)\n",
    "ax.set_xlim([-axes_offset, x_dim+axes_offset])\n",
    "ax.set_ylim([-axes_offset, y_dim+axes_offset])\n",
    "ax.set_zlim([-axes_offset, z_dim+axes_offset]);\n",
    "\n",
    "ax.set_xlabel('Width (m)', labelpad=10)\n",
    "ax.set_ylabel('Length (m)', labelpad=10)\n",
    "ax.set_zlabel('Height (m)', labelpad=10);"
   ]
  },
  {
   "cell_type": "markdown",
   "metadata": {},
   "source": [
    "#### play a stimulus from a speaker"
   ]
  },
  {
   "cell_type": "code",
   "execution_count": 8,
   "metadata": {},
   "outputs": [
    {
     "name": "stdout",
     "output_type": "stream",
     "text": [
      "resampling audio\n"
     ]
    }
   ],
   "source": [
    "speaker_pos = (x_pos, y_pos, z_pos)\n",
    "sr_stimulus, stimulus = add_source(speaker_pos, stimulus, sr_stimulus, room)"
   ]
  },
  {
   "cell_type": "code",
   "execution_count": 9,
   "metadata": {},
   "outputs": [
    {
     "data": {
      "application/vnd.jupyter.widget-view+json": {
       "model_id": "1db8dbf981e14614b70ae21a54c8cf72",
       "version_major": 2,
       "version_minor": 0
      },
      "text/plain": [
       "Canvas(toolbar=Toolbar(toolitems=[('Home', 'Reset original view', 'home', 'home'), ('Back', 'Back to previous …"
      ]
     },
     "metadata": {},
     "output_type": "display_data"
    }
   ],
   "source": [
    "%matplotlib widget\n",
    "\n",
    "axes_offset = 0.5\n",
    "\n",
    "sns.set_style('white')\n",
    "sns.set_style('ticks')\n",
    "sns.set_context('paper')\n",
    "\n",
    "fig, ax = room.plot(plot_directivity=False, mic_marker_size=50)\n",
    "\n",
    "ax.plot3D(x_pos, y_pos, z_pos, marker='o', color='k', markersize=10)\n",
    "\n",
    "ax.set_xlim([-axes_offset, x_dim+axes_offset])\n",
    "ax.set_ylim([-axes_offset, y_dim+axes_offset])\n",
    "ax.set_zlim([-axes_offset, z_dim+axes_offset]);\n",
    "\n",
    "\n",
    "ax.set_xlabel('Width (m)', labelpad=10)\n",
    "ax.set_ylabel('Length (m)', labelpad=10)\n",
    "ax.set_zlabel('Height (m)', labelpad=10);"
   ]
  },
  {
   "cell_type": "markdown",
   "metadata": {},
   "source": [
    "#### run the simulation"
   ]
  },
  {
   "cell_type": "code",
   "execution_count": 10,
   "metadata": {},
   "outputs": [],
   "source": [
    "room.simulate()"
   ]
  },
  {
   "cell_type": "markdown",
   "metadata": {},
   "source": [
    "#### output of the simunlation"
   ]
  },
  {
   "cell_type": "code",
   "execution_count": 11,
   "metadata": {},
   "outputs": [
    {
     "name": "stdout",
     "output_type": "stream",
     "text": [
      "Populating the interactive namespace from numpy and matplotlib\n"
     ]
    },
    {
     "data": {
      "image/png": "[encoded data removed]",
      "text/plain": [
       "<Figure size 432x288 with 1 Axes>"
      ]
     },
     "metadata": {},
     "output_type": "display_data"
    }
   ],
   "source": [
    "%pylab inline\n",
    "\n",
    "sns.set_style('white')\n",
    "sns.set_style('ticks')\n",
    "sns.set_context('talk')\n",
    "\n",
    "tick_labels = [\"Stimulus\"]\n",
    "\n",
    "plot(stimulus, 'k')\n",
    "for i in range(room.mic_array.signals.shape[0]):\n",
    "    plot(room.mic_array.signals[i]-(i+1)*10000, 'k')\n",
    "    tick_labels.append('Mic {}'.format(i+1))\n",
    "#     yticks('')\n",
    "\n",
    "xticks(np.arange(room.mic_array.signals.shape[1])[::int(room.mic_array.signals.shape[1]/5)],\n",
    "       np.around(np.arange(room.mic_array.signals.shape[1])[::int(room.mic_array.signals.shape[1]/5)]/sr, decimals=2))\n",
    "yticks(np.arange(0,room.mic_array.signals.shape[0]+1)*-10000,\n",
    "      tick_labels)\n",
    "xlabel('Time (s)')\n",
    "sns.despine()"
   ]
  },
  {
   "cell_type": "code",
   "execution_count": null,
   "metadata": {},
   "outputs": [],
   "source": []
  },
  {
   "cell_type": "markdown",
   "metadata": {},
   "source": [
    "# 2. Run MUSE on simulated data"
   ]
  },
  {
   "cell_type": "markdown",
   "metadata": {},
   "source": [
    "#### MUSE parameters"
   ]
  },
  {
   "cell_type": "code",
   "execution_count": 12,
   "metadata": {},
   "outputs": [],
   "source": [
    "#create grid to predict sound source over\n",
    "x_grid, y_grid = muse.make_xy_grid(x_dim, y_dim, resolution=0.0025)  # I increased this ten-fold because it took forever to run\n",
    "in_cage = None  # unused argument\n",
    "\n",
    "#x, y, zmic positions\n",
    "R = mic_pos\n",
    "\n",
    "#audio from mic array from simulation\n",
    "audio = room.mic_array.signals.T  # Transpose shape from (n_mics, n_samp) to (n_samp, n_mics)\n",
    "\n",
    "#frequency range of interest\n",
    "f_lo = 0\n",
    "f_hi = 62500\n",
    "\n",
    "fs = sr #audio sampling rate\n",
    "dt = 1 / fs #time step\n",
    "temp = 20 #temperature oF environment (C)\n",
    "\n",
    "N, n_mics = audio.shape #num mics"
   ]
  },
  {
   "cell_type": "markdown",
   "metadata": {},
   "source": [
    "#### Run Muse"
   ]
  },
  {
   "cell_type": "code",
   "execution_count": 13,
   "metadata": {},
   "outputs": [],
   "source": [
    "r_est, _, rsrp_grid, _, _, _, _, _, _ \\\n",
    "= muse.r_est_from_clip_simplified(audio,\n",
    "    fs,\n",
    "    f_lo,\n",
    "    f_hi,\n",
    "    temp,\n",
    "    x_grid,\n",
    "    y_grid,\n",
    "    in_cage,\n",
    "    R,  # Expected to have shape (3, n_mics)\n",
    "    1)"
   ]
  },
  {
   "cell_type": "code",
   "execution_count": null,
   "metadata": {},
   "outputs": [],
   "source": []
  },
  {
   "cell_type": "markdown",
   "metadata": {},
   "source": [
    "#### Visualize and compute error"
   ]
  },
  {
   "cell_type": "code",
   "execution_count": 14,
   "metadata": {},
   "outputs": [
    {
     "data": {
      "application/vnd.jupyter.widget-view+json": {
       "model_id": "57bbea9f075641999e8a6b97d08669cb",
       "version_major": 2,
       "version_minor": 0
      },
      "text/plain": [
       "Canvas(toolbar=Toolbar(toolitems=[('Home', 'Reset original view', 'home', 'home'), ('Back', 'Back to previous …"
      ]
     },
     "metadata": {},
     "output_type": "display_data"
    },
    {
     "name": "stdout",
     "output_type": "stream",
     "text": [
      "MUSE error (m): 0.495\n"
     ]
    }
   ],
   "source": [
    "%matplotlib widget\n",
    "\n",
    "axes_offset = 0.5\n",
    "\n",
    "sns.set_style('white')\n",
    "sns.set_style('ticks')\n",
    "sns.set_context('paper')\n",
    "\n",
    "fig, ax = room.plot(plot_directivity=False, mic_marker_size=50,img_order=-1)\n",
    "\n",
    "\n",
    "ax.plot3D(x_pos, y_pos, z_pos, marker='o', color='k', markersize=5)\n",
    "ax.plot3D(r_est[0], r_est[1], 0, marker='o', color='r', markersize=5)\n",
    "\n",
    "ax.set_xlim([-axes_offset, x_dim+axes_offset])\n",
    "ax.set_ylim([-axes_offset, y_dim+axes_offset])\n",
    "ax.set_zlim([-axes_offset, z_dim+axes_offset]);\n",
    "\n",
    "\n",
    "ax.set_xlabel('Width (m)', labelpad=10)\n",
    "ax.set_ylabel('Length (m)', labelpad=10)\n",
    "ax.set_zlabel('Height (m)', labelpad=10);\n",
    "\n",
    "print('MUSE error (m):', np.around(distance.euclidean(r_est, speaker_pos[:2]), decimals=3))"
   ]
  },
  {
   "cell_type": "code",
   "execution_count": null,
   "metadata": {},
   "outputs": [],
   "source": []
  }
 ],
 "metadata": {
  "kernelspec": {
   "display_name": "Python 3 (ipykernel)",
   "language": "python",
   "name": "python3"
  },
  "language_info": {
   "codemirror_mode": {
    "name": "ipython",
    "version": 3
   },
   "file_extension": ".py",
   "mimetype": "text/x-python",
   "name": "python",
   "nbconvert_exporter": "python",
   "pygments_lexer": "ipython3",
   "version": "3.7.6"
  }
 },
 "nbformat": 4,
 "nbformat_minor": 4
}
