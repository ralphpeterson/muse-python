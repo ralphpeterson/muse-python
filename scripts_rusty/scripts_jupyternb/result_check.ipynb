{
 "cells": [
  {
   "cell_type": "markdown",
   "metadata": {},
   "source": [
    "#### Load packages"
   ]
  },
  {
   "cell_type": "code",
   "execution_count": 36,
   "metadata": {},
   "outputs": [
    {
     "data": {
      "text/plain": [
       "'/mnt/home/ayamaguchi'"
      ]
     },
     "execution_count": 36,
     "metadata": {},
     "output_type": "execute_result"
    }
   ],
   "source": [
    "import numpy as np\n",
    "import matplotlib.pyplot as plt\n",
    "import os, glob\n",
    "os.getcwd()"
   ]
  },
  {
   "cell_type": "code",
   "execution_count": 37,
   "metadata": {},
   "outputs": [
    {
     "name": "stdout",
     "output_type": "stream",
     "text": [
      "/mnt/home/ayamaguchi\n"
     ]
    }
   ],
   "source": [
    "cd '/mnt/home/ayamaguchi/'"
   ]
  },
  {
   "cell_type": "code",
   "execution_count": 38,
   "metadata": {},
   "outputs": [],
   "source": [
    "# os.listdir()\n",
    "from scripts.function_files import mic_pos_f as mf\n",
    "from scripts.function_files import mic_arrays as ma"
   ]
  },
  {
   "cell_type": "code",
   "execution_count": 91,
   "metadata": {},
   "outputs": [],
   "source": [
    "# fnames = glob.glob('/mnt/home/ayamaguchi/output_warble/out_wbl5/*.npy')\n",
    "# fnames = glob.glob('/mnt/home/ayamaguchi/output_sym/out_sym_vert/*.npy')\n",
    "# fnames = glob.glob('/mnt/home/ayamaguchi/output_sym/out_sym_diag/*.npy')\n",
    "# fnames = glob.glob('/mnt/home/ayamaguchi/output_sym/out_sym_rot/*.npy')\n",
    "# fnames = glob.glob('/mnt/home/ayamaguchi/output_sym/*.npy')\n",
    "# fnames = glob.glob('/mnt/home/ayamaguchi/output/out_small_wall/*.npy')\n",
    "# fnames = glob.glob('/mnt/home/ayamaguchi/output_sym/out_sym_sml_diag/*.npy')\n",
    "fnames = glob.glob('/mnt/home/ayamaguchi/output/small_rev_jk_ceiling_vert/*.npy')"
   ]
  },
  {
   "cell_type": "code",
   "execution_count": 92,
   "metadata": {},
   "outputs": [
    {
     "data": {
      "text/plain": [
       "4"
      ]
     },
     "execution_count": 92,
     "metadata": {},
     "output_type": "execute_result"
    }
   ],
   "source": [
    "len(fnames)\n",
    "# fnames[0]"
   ]
  },
  {
   "cell_type": "code",
   "execution_count": 93,
   "metadata": {},
   "outputs": [
    {
     "data": {
      "text/plain": [
       "(1536, 3)"
      ]
     },
     "execution_count": 93,
     "metadata": {},
     "output_type": "execute_result"
    }
   ],
   "source": [
    "data = np.load(fnames[0],allow_pickle=True)\n",
    "data.shape"
   ]
  },
  {
   "cell_type": "code",
   "execution_count": 94,
   "metadata": {},
   "outputs": [
    {
     "data": {
      "text/plain": [
       "(1536,)"
      ]
     },
     "execution_count": 94,
     "metadata": {},
     "output_type": "execute_result"
    }
   ],
   "source": [
    "data[:,0].shape"
   ]
  },
  {
   "cell_type": "code",
   "execution_count": 100,
   "metadata": {},
   "outputs": [
    {
     "data": {
      "text/plain": [
       "0.13483238981790313"
      ]
     },
     "execution_count": 100,
     "metadata": {},
     "output_type": "execute_result"
    }
   ],
   "source": [
    "# data[0,1] # mic_pos\n",
    "# data[0,2] # src_idx\n",
    "data[0,0] # error"
   ]
  },
  {
   "cell_type": "code",
   "execution_count": 78,
   "metadata": {},
   "outputs": [
    {
     "data": {
      "text/plain": [
       "array([0.23933895873553535, array([[0.012, 0.2  , 0.388, 0.2  ],\n",
       "                                   [0.3  , 0.582, 0.3  , 0.018],\n",
       "                                   [0.345, 0.345, 0.345, 0.345]]), (0, 2)],\n",
       "      dtype=object)"
      ]
     },
     "execution_count": 78,
     "metadata": {},
     "output_type": "execute_result"
    }
   ],
   "source": [
    "data[2]"
   ]
  },
  {
   "cell_type": "code",
   "execution_count": 24,
   "metadata": {},
   "outputs": [
    {
     "name": "stdout",
     "output_type": "stream",
     "text": [
      "minimum max error: 0.227 m\n",
      "microphone index: /mnt/home/ayamaguchi/output_sym/out_sym_sml_vert/result_sym_0.960.npy\n",
      "Nall_idx size: 32\n"
     ]
    }
   ],
   "source": [
    "merr = 10\n",
    "Nall_idx = []\n",
    "for i in range(len(fnames)):\n",
    "    data = np.load(fnames[i], allow_pickle=True)\n",
    "    max_err = max(data[0])\n",
    "    # Different name conventions... (ugh)\n",
    "    if '-' in fnames[i].split('_')[-1].split('.')[0]:\n",
    "        idx = int(fnames[i].split('_')[-1].split('.')[0].split('-')[1])\n",
    "    else:\n",
    "        idx = int(fnames[i].split('_')[-1].split('.')[0])\n",
    "\n",
    "    Nall_idx.append(idx)\n",
    "    \n",
    "    if merr > max_err:\n",
    "        merr = max_err\n",
    "        mname = fnames[i]\n",
    "        mic_idx = mname#.split('-')[-1].split('.')[0]\n",
    "\n",
    "print('minimum max error: %1.3f m'%merr)\n",
    "print('microphone index:',mic_idx)\n",
    "print('Nall_idx size:', len(Nall_idx))"
   ]
  },
  {
   "cell_type": "markdown",
   "metadata": {},
   "source": [
    "### Get the heatmap of the optimal configuration"
   ]
  },
  {
   "cell_type": "code",
   "execution_count": 33,
   "metadata": {},
   "outputs": [],
   "source": [
    "# data = np.load('/mnt/home/ayamaguchi/output/out_small_wall/small_0.175.npy',allow_pickle=True)\n",
    "# data = np.load('/mnt/home/ayamaguchi/output_sym/out_sym_diag/result_sym_0.780.npy',allow_pickle=True)\n",
    "# data = np.load('/mnt/home/ayamaguchi/output_sym/out_sym_vert/result_sym_0.960.npy',allow_pickle=True)\n",
    "# data = np.load('/mnt/home/ayamaguchi/output_sym/out_sym_rot/result_sym_93.npy',allow_pickle=True)\n",
    "\n",
    "data = np.load('/mnt/home/ayamaguchi/output_sym/out_sym_sml_diag/result_sym_0.120.npy', allow_pickle=True)\n",
    "# data = np.load('/mnt/home/ayamaguchi/output_sym/out_sym_sml_vert/result_sym_0.960.npy', allow_pickle=True)"
   ]
  },
  {
   "cell_type": "code",
   "execution_count": 34,
   "metadata": {},
   "outputs": [],
   "source": [
    "# mic_pos = mf.f(0.21, mode='diag')\n",
    "# mic_pos = np.array([[0.1 , 0.1 , 1.73, 1.73],[0.1 , 2.34, 2.34, 0.1 ]]).T\n",
    "# mic_pos = ma.mic_edges4n(4, rd[0], rd[1], 0.015, 0.01)\n",
    "# print(mic_pos)"
   ]
  },
  {
   "cell_type": "code",
   "execution_count": 35,
   "metadata": {},
   "outputs": [
    {
     "name": "stdout",
     "output_type": "stream",
     "text": [
      "d_max = 18.396 cm\n",
      "d_min = 0.628 cm\n",
      "d_mean = 8.616 cm\n",
      "d_std = 3.845 cm\n"
     ]
    }
   ],
   "source": [
    "# nx, ny = 32, 49\n",
    "nx, ny = 49, 37\n",
    "hm_data = np.reshape(data[0], (nx,ny)).astype(float)\n",
    "print('d_max = %1.3f cm'%np.amax(hm_data.flatten()*100))\n",
    "print('d_min = %1.3f cm'%np.amin(hm_data.flatten()*100))\n",
    "print('d_mean = %1.3f cm'%np.mean(hm_data.flatten()*100))\n",
    "print('d_std = %1.3f cm'%np.std(hm_data.flatten()*100))"
   ]
  },
  {
   "cell_type": "code",
   "execution_count": 30,
   "metadata": {},
   "outputs": [
    {
     "name": "stdout",
     "output_type": "stream",
     "text": [
      "[[0.192 0.3  ]\n",
      " [0.2   0.312]\n",
      " [0.208 0.3  ]\n",
      " [0.2   0.288]]\n"
     ]
    }
   ],
   "source": [
    "rd = np.array([0.4, 0.6, 0.355]) # small room\n",
    "# type(hm_data)\n",
    "# hm_data.astype(float)*100\n",
    "# mic_pos = mf.f(0.120, rd, mode='diag')\n",
    "mic_pos = mf.f(0.96, rd, mode='vert')\n",
    "# mic_pos = mf.g(93, rd[0], rd[1], 0.4,0.9)\n",
    "# mic_pos = ma.mic_edges4n(4, rd[0], rd[1], 0.015, 0.01)[0:2,:].T\n",
    "print(mic_pos)"
   ]
  },
  {
   "cell_type": "code",
   "execution_count": 31,
   "metadata": {},
   "outputs": [
    {
     "data": {
      "image/png": "[encoded data removed]",
      "text/plain": [
       "<Figure size 504x504 with 2 Axes>"
      ]
     },
     "metadata": {
      "needs_background": "light"
     },
     "output_type": "display_data"
    }
   ],
   "source": [
    "offset = 0.01\n",
    "x_ary = np.linspace(offset,rd[0]-offset, nx)\n",
    "y_ary = np.linspace(offset,rd[1]-offset, ny)\n",
    "\n",
    "x,y = np.meshgrid(x_ary, y_ary)\n",
    "fig, ax = plt.subplots(figsize=(7,7))\n",
    "c = ax.pcolormesh(x,y,hm_data.T*100, cmap='viridis')\n",
    "ax.set_xlim(0, rd[0]), ax.set_ylim(0, rd[1])\n",
    "cbar = plt.colorbar(c)\n",
    "cbar.ax.set_ylabel('error (cm)', rotation=0)\n",
    "plt.plot(mic_pos[:,0],mic_pos[:,1], 'o', color='r', markersize=8)\n",
    "plt.title('jackknife')\n",
    "plt.show()\n"
   ]
  },
  {
   "cell_type": "code",
   "execution_count": 32,
   "metadata": {},
   "outputs": [
    {
     "data": {
      "image/png": "[encoded data removed]",
      "text/plain": [
       "<Figure size 432x288 with 1 Axes>"
      ]
     },
     "metadata": {
      "needs_background": "light"
     },
     "output_type": "display_data"
    }
   ],
   "source": [
    "# Histogram: \n",
    "plt.figure()\n",
    "plt.hist(hm_data.flatten()*100, 25)\n",
    "plt.xlabel('error (cm)',fontsize=14)\n",
    "plt.ylabel('counts',fontsize=14)\n",
    "plt.grid()\n",
    "# plt.title(r'rot, $\\alpha=%1.2f$'%0.96)\n",
    "# plt.title(r'rot, $\\theta=%1.0f^\\circ$'%93)\n",
    "plt.title('jackknife. 4 walls')\n",
    "\n",
    "plt.show()"
   ]
  },
  {
   "cell_type": "markdown",
   "metadata": {},
   "source": [
    "### Check missing points"
   ]
  },
  {
   "cell_type": "code",
   "execution_count": 5,
   "metadata": {},
   "outputs": [],
   "source": [
    "Nall_idx.sort()\n",
    "Nall_sort = np.array(Nall_idx)\n",
    "ary = np.arange(1,1813)"
   ]
  },
  {
   "cell_type": "code",
   "execution_count": 6,
   "metadata": {},
   "outputs": [],
   "source": [
    "miss_val = []\n",
    "for val in ary:\n",
    "    if val in Nall_idx:\n",
    "        pass\n",
    "    else:\n",
    "        miss_val.append(val)"
   ]
  },
  {
   "cell_type": "code",
   "execution_count": 10,
   "metadata": {},
   "outputs": [],
   "source": [
    "# miss_val"
   ]
  },
  {
   "cell_type": "code",
   "execution_count": 15,
   "metadata": {},
   "outputs": [
    {
     "data": {
      "text/plain": [
       "(array([ 495,  803, 1224]),)"
      ]
     },
     "execution_count": 15,
     "metadata": {},
     "output_type": "execute_result"
    }
   ],
   "source": [
    "np.where(np.diff(np.array(Nall_idx))!=1)"
   ]
  },
  {
   "cell_type": "markdown",
   "metadata": {},
   "source": [
    "### Show the mic positions from the selected mic indices"
   ]
  },
  {
   "cell_type": "markdown",
   "metadata": {},
   "source": [
    "microphone indices"
   ]
  },
  {
   "cell_type": "code",
   "execution_count": 11,
   "metadata": {},
   "outputs": [],
   "source": [
    "# idx = np.array([498, 619, 807, 1268]) # 4 mics, 2kHz sine\n",
    "idx = np.array([656, 862, 1000, 1001, 1298]) # 5 mics, gerbils-warble\n",
    "# data = np.load('output/result_1813_1268_498.npy', allow_pickle=True)\n",
    "# data = np.load('mp_test_result_4.npy', allow_pickle=True)"
   ]
  },
  {
   "cell_type": "markdown",
   "metadata": {},
   "source": [
    "Nall"
   ]
  },
  {
   "cell_type": "code",
   "execution_count": 16,
   "metadata": {},
   "outputs": [],
   "source": [
    "x_dim, y_dim = 1.83, 2.44\n",
    "rd = np.array([x_dim, y_dim, 0.76]) # room_dimensions\n",
    "nx, ny = 37, 49\n",
    "offset = 0.1\n",
    "Nall = np.array(np.meshgrid(np.arange(nx), np.arange(ny))).T.reshape(-1,2)\n",
    "x_ary = np.linspace(offset,rd[0]-offset, nx)\n",
    "y_ary = np.linspace(offset,rd[1]-offset, ny)"
   ]
  },
  {
   "cell_type": "markdown",
   "metadata": {},
   "source": [
    "Nall indices to mic_pos"
   ]
  },
  {
   "cell_type": "code",
   "execution_count": 13,
   "metadata": {},
   "outputs": [],
   "source": [
    "def get_mic_pos(idxs, Nall, x_ary, y_ary):\n",
    "    pos = np.zeros([idxs.shape[0], 2])\n",
    "    for i,idx in enumerate(idxs):\n",
    "        pos[i,:] = np.array([x_ary[Nall[idx,0]], y_ary[Nall[idx,1]]])\n",
    "    \n",
    "    return pos"
   ]
  },
  {
   "cell_type": "code",
   "execution_count": 14,
   "metadata": {},
   "outputs": [],
   "source": [
    "mic_pos = get_mic_pos(idx, Nall, x_ary, y_ary)"
   ]
  },
  {
   "cell_type": "code",
   "execution_count": 15,
   "metadata": {},
   "outputs": [
    {
     "data": {
      "text/plain": [
       "array([[0.68861111, 0.98666667],\n",
       "       [0.86972222, 1.45333333],\n",
       "       [1.00555556, 1.03333333],\n",
       "       [1.00555556, 1.08      ],\n",
       "       [1.27722222, 1.22      ]])"
      ]
     },
     "execution_count": 15,
     "metadata": {},
     "output_type": "execute_result"
    }
   ],
   "source": [
    "mic_pos"
   ]
  },
  {
   "cell_type": "markdown",
   "metadata": {},
   "source": [
    "#### Get Nall indices from the coordinate positions"
   ]
  },
  {
   "cell_type": "code",
   "execution_count": 20,
   "metadata": {},
   "outputs": [],
   "source": [
    "def mic_pos_to_Nall_idx(mic_pos, x_ary,y_ary,Nall):\n",
    "     Nall_idx = []\n",
    "     for i in range(mic_pos.shape[0]):\n",
    "          # loop over n_mic\n",
    "          x = mic_pos[i][0]\n",
    "          y = mic_pos[i][1]\n",
    "          ary_idx = np.array([np.where(x_ary==x)[0][0], np.where(y_ary==y)[0][0]])\n",
    "          Nidx = np.where((Nall==ary_idx).all(axis=1))\n",
    "          Nall_idx = np.append(Nall_idx, Nidx)\n",
    "     return Nall_idx"
   ]
  },
  {
   "cell_type": "code",
   "execution_count": 21,
   "metadata": {},
   "outputs": [
    {
     "ename": "IndexError",
     "evalue": "invalid index to scalar variable.",
     "output_type": "error",
     "traceback": [
      "\u001b[0;31m---------------------------------------------------------------------------\u001b[0m",
      "\u001b[0;31mIndexError\u001b[0m                                Traceback (most recent call last)",
      "\u001b[1;32m/mnt/home/ayamaguchi/scripts/jupyter_nb/result_check.ipynb Cell 26'\u001b[0m in \u001b[0;36m<cell line: 2>\u001b[0;34m()\u001b[0m\n\u001b[1;32m      <a href='vscode-notebook-cell://ssh-remote%2Brusty/mnt/home/ayamaguchi/scripts/jupyter_nb/result_check.ipynb#ch0000034vscode-remote?line=0'>1</a>\u001b[0m mic_pos \u001b[39m=\u001b[39m np\u001b[39m.\u001b[39marray([x_dim\u001b[39m-\u001b[39moffset, y_dim\u001b[39m-\u001b[39moffset, \u001b[39m0.86\u001b[39m\u001b[39m-\u001b[39moffset])\n\u001b[0;32m----> <a href='vscode-notebook-cell://ssh-remote%2Brusty/mnt/home/ayamaguchi/scripts/jupyter_nb/result_check.ipynb#ch0000034vscode-remote?line=1'>2</a>\u001b[0m Nidx \u001b[39m=\u001b[39m mic_pos_to_Nall_idx(mic_pos, x_ary, y_ary, Nall)\n",
      "\u001b[1;32m/mnt/home/ayamaguchi/scripts/jupyter_nb/result_check.ipynb Cell 25'\u001b[0m in \u001b[0;36mmic_pos_to_Nall_idx\u001b[0;34m(mic_pos, x_ary, y_ary, Nall)\u001b[0m\n\u001b[1;32m      <a href='vscode-notebook-cell://ssh-remote%2Brusty/mnt/home/ayamaguchi/scripts/jupyter_nb/result_check.ipynb#ch0000024vscode-remote?line=1'>2</a>\u001b[0m Nall_idx \u001b[39m=\u001b[39m []\n\u001b[1;32m      <a href='vscode-notebook-cell://ssh-remote%2Brusty/mnt/home/ayamaguchi/scripts/jupyter_nb/result_check.ipynb#ch0000024vscode-remote?line=2'>3</a>\u001b[0m \u001b[39mfor\u001b[39;00m i \u001b[39min\u001b[39;00m \u001b[39mrange\u001b[39m(mic_pos\u001b[39m.\u001b[39mshape[\u001b[39m0\u001b[39m]):\n\u001b[1;32m      <a href='vscode-notebook-cell://ssh-remote%2Brusty/mnt/home/ayamaguchi/scripts/jupyter_nb/result_check.ipynb#ch0000024vscode-remote?line=3'>4</a>\u001b[0m      \u001b[39m# loop over n_mic\u001b[39;00m\n\u001b[0;32m----> <a href='vscode-notebook-cell://ssh-remote%2Brusty/mnt/home/ayamaguchi/scripts/jupyter_nb/result_check.ipynb#ch0000024vscode-remote?line=4'>5</a>\u001b[0m      x \u001b[39m=\u001b[39m mic_pos[i][\u001b[39m0\u001b[39;49m]\n\u001b[1;32m      <a href='vscode-notebook-cell://ssh-remote%2Brusty/mnt/home/ayamaguchi/scripts/jupyter_nb/result_check.ipynb#ch0000024vscode-remote?line=5'>6</a>\u001b[0m      y \u001b[39m=\u001b[39m mic_pos[i][\u001b[39m1\u001b[39m]\n\u001b[1;32m      <a href='vscode-notebook-cell://ssh-remote%2Brusty/mnt/home/ayamaguchi/scripts/jupyter_nb/result_check.ipynb#ch0000024vscode-remote?line=6'>7</a>\u001b[0m      ary_idx \u001b[39m=\u001b[39m np\u001b[39m.\u001b[39marray([np\u001b[39m.\u001b[39mwhere(x_ary\u001b[39m==\u001b[39mx)[\u001b[39m0\u001b[39m][\u001b[39m0\u001b[39m], np\u001b[39m.\u001b[39mwhere(y_ary\u001b[39m==\u001b[39my)[\u001b[39m0\u001b[39m][\u001b[39m0\u001b[39m]])\n",
      "\u001b[0;31mIndexError\u001b[0m: invalid index to scalar variable."
     ]
    }
   ],
   "source": [
    "mic_pos = np.array([[x_dim-offset, y_dim-offset, 0.86-offset],\n",
    "                    [offset, y_dim-offset, 0.86-offset],\\\n",
    "                        [x_dim-offset, offset, 0.86-offset],\\\n",
    "                            []])\n",
    "Nidx = mic_pos_to_Nall_idx(mic_pos, x_ary, y_ary, Nall)"
   ]
  },
  {
   "cell_type": "code",
   "execution_count": 22,
   "metadata": {},
   "outputs": [
    {
     "data": {
      "text/plain": [
       "0.1"
      ]
     },
     "execution_count": 22,
     "metadata": {},
     "output_type": "execute_result"
    }
   ],
   "source": [
    "# a = mic_pos_to_Nall_idx(data, x_ary, y_ary, Nall)\n",
    "offset"
   ]
  },
  {
   "cell_type": "markdown",
   "metadata": {},
   "source": [
    "### Show the mic position (Plot)"
   ]
  },
  {
   "cell_type": "code",
   "execution_count": 72,
   "metadata": {},
   "outputs": [],
   "source": [
    "# x = np.linspace(0,10,1000)\n",
    "# y = np.sin(x)\n",
    "# x, y = np.linspace(0,x_dim, 100), np.linspace(0,y_dim, 100)"
   ]
  },
  {
   "cell_type": "code",
   "execution_count": 17,
   "metadata": {},
   "outputs": [],
   "source": [
    "%matplotlib inline"
   ]
  },
  {
   "cell_type": "code",
   "execution_count": 71,
   "metadata": {},
   "outputs": [],
   "source": [
    "# fig = plt.figure()\n",
    "# ax = fig.add_axes([1,1,1,1])\n",
    "# ax.plot(x,y)\n",
    "# plt.show()\n",
    "# # fig.savefig('plot_test.png', bbox_inches='tight')\n",
    "# # plt.close()\n"
   ]
  },
  {
   "cell_type": "code",
   "execution_count": 18,
   "metadata": {},
   "outputs": [
    {
     "data": {
      "text/plain": [
       "array([[0.68861111, 0.98666667],\n",
       "       [0.86972222, 1.45333333],\n",
       "       [1.00555556, 1.03333333],\n",
       "       [1.00555556, 1.08      ],\n",
       "       [1.27722222, 1.22      ]])"
      ]
     },
     "execution_count": 18,
     "metadata": {},
     "output_type": "execute_result"
    }
   ],
   "source": [
    "mic_pos"
   ]
  },
  {
   "cell_type": "code",
   "execution_count": 19,
   "metadata": {},
   "outputs": [
    {
     "data": {
      "image/png": "[encoded data removed]",
      "text/plain": [
       "<Figure size 432x288 with 1 Axes>"
      ]
     },
     "metadata": {
      "needs_background": "light"
     },
     "output_type": "display_data"
    }
   ],
   "source": [
    "# mic_pos = data[1].T\n",
    "fig, ax = plt.subplots()\n",
    "for i in range(mic_pos.shape[0]):\n",
    "    ax.plot(mic_pos[i,0],mic_pos[i,1], 'o')\n",
    "    \n",
    "ax.set_aspect('equal')\n",
    "ax.set_title('error = %1.3f cm'%(merr*100))\n",
    "ax.set_xlim(0,x_dim)\n",
    "ax.set_ylim(0,y_dim)\n",
    "ax.grid()\n",
    "plt.show()"
   ]
  },
  {
   "cell_type": "code",
   "execution_count": null,
   "metadata": {},
   "outputs": [],
   "source": []
  },
  {
   "cell_type": "code",
   "execution_count": null,
   "metadata": {},
   "outputs": [],
   "source": []
  }
 ],
 "metadata": {
  "kernelspec": {
   "display_name": "Python 3.9.12 ('venv': venv)",
   "language": "python",
   "name": "python3"
  },
  "language_info": {
   "codemirror_mode": {
    "name": "ipython",
    "version": 3
   },
   "file_extension": ".py",
   "mimetype": "text/x-python",
   "name": "python",
   "nbconvert_exporter": "python",
   "pygments_lexer": "ipython3",
   "version": "3.9.12"
  },
  "orig_nbformat": 4,
  "vscode": {
   "interpreter": {
    "hash": "904d055849b328d4058fbe0ab4a8a4ab62eea872b006bcb2c502049d0db551bf"
   }
  }
 },
 "nbformat": 4,
 "nbformat_minor": 2
}
